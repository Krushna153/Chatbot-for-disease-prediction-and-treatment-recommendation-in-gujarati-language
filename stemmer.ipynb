{
 "cells": [
  {
   "cell_type": "code",
   "execution_count": 1,
   "metadata": {},
   "outputs": [],
   "source": [
    "from tokenizer import SentenceTokenizer\n",
    "from utils.stopwords import stopwords\n",
    "\n",
    "import re\n",
    "\n",
    "class Stemmer():\n",
    "\n",
    "    def stem_word(self, sentence):\n",
    "        word_list = sentence.split(' ')\n",
    "        if not word_list[-1]:\n",
    "            del(word_list[-1])\n",
    "        return_list = []\n",
    "        puctuations = ('.',',','!','?','\"',\"'\",'%','#','@','&')\n",
    "        suffixes = ['નાં','ના','ની','નો','નું','ને','થી','માં','એ','ઓ','ે','તા','તી','વા','મા','વું','વુ','ો','માંથી','શો','ીશ','ીશું','શે','તો','તું','તાં','્યો','યો','યાં','્યું','યું','્યા','યા','્યાં','સ્વી']\n",
    "        for word in word_list:\n",
    "            a = word\n",
    "            if word.endswith(puctuations):\n",
    "                a = word[:-1]\n",
    "            if a in stopwords:\n",
    "                return_list.append(a)\n",
    "                continue\n",
    "            for suffix in suffixes:\n",
    "                if a.endswith(suffix):\n",
    "                    a = a.rstrip(suffix)\n",
    "                    break\n",
    "            if word.endswith(puctuations):\n",
    "                a+=str(word[-1])\n",
    "            return_list.append(a)\n",
    "        return_sentence = \" \".join(return_list)\n",
    "        return return_sentence\n",
    "\n",
    "\n",
    "    def stem(self, text):\n",
    "        l = SentenceTokenizer(text)\n",
    "        if len(l)==1:\n",
    "            sentence = l[0]\n",
    "            return self.stem_word(sentence)\n",
    "        else:\n",
    "            a = []\n",
    "            for sentence in l:\n",
    "                a.append(self.stem(sentence))\n",
    "            return a\n"
   ]
  }
 ],
 "metadata": {
  "kernelspec": {
   "display_name": "Python 3",
   "language": "python",
   "name": "python3"
  },
  "language_info": {
   "codemirror_mode": {
    "name": "ipython",
    "version": 3
   },
   "file_extension": ".py",
   "mimetype": "text/x-python",
   "name": "python",
   "nbconvert_exporter": "python",
   "pygments_lexer": "ipython3",
   "version": "3.7.4"
  }
 },
 "nbformat": 4,
 "nbformat_minor": 2
}
