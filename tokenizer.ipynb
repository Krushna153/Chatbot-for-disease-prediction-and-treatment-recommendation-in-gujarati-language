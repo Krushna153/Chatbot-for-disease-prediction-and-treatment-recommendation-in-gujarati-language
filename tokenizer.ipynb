{
 "cells": [
  {
   "cell_type": "code",
   "execution_count": 2,
   "metadata": {},
   "outputs": [],
   "source": [
    "from utils.stopwords import stopwords\n",
    "import re\n",
    "\n",
    "def SentenceTokenizer(data):\n",
    "    data = data.strip()\n",
    "    data = re.sub(r'([.!?])', r'\\1 ', data)\n",
    "    data = re.split(r'  ',data)\n",
    "    if not data[-1]:\n",
    "        del(data[-1])\n",
    "    return data"
   ]
  },
  {
   "cell_type": "code",
   "execution_count": null,
   "metadata": {},
   "outputs": [],
   "source": []
  }
 ],
 "metadata": {
  "kernelspec": {
   "display_name": "Python 3",
   "language": "python",
   "name": "python3"
  },
  "language_info": {
   "codemirror_mode": {
    "name": "ipython",
    "version": 3
   },
   "file_extension": ".py",
   "mimetype": "text/x-python",
   "name": "python",
   "nbconvert_exporter": "python",
   "pygments_lexer": "ipython3",
   "version": "3.7.4"
  }
 },
 "nbformat": 4,
 "nbformat_minor": 2
}
